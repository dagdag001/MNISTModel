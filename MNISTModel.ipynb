{
  "nbformat": 4,
  "nbformat_minor": 0,
  "metadata": {
    "colab": {
      "provenance": [],
      "gpuType": "T4",
      "authorship_tag": "ABX9TyOWmg0bys6JLnu0s2/O8xQR",
      "include_colab_link": true
    },
    "kernelspec": {
      "name": "python3",
      "display_name": "Python 3"
    },
    "language_info": {
      "name": "python"
    },
    "accelerator": "GPU",
    "widgets": {
      "application/vnd.jupyter.widget-state+json": {
        "e2718389e0a649f69637c4c5631b9949": {
          "model_module": "@jupyter-widgets/controls",
          "model_name": "HBoxModel",
          "model_module_version": "1.5.0",
          "state": {
            "_dom_classes": [],
            "_model_module": "@jupyter-widgets/controls",
            "_model_module_version": "1.5.0",
            "_model_name": "HBoxModel",
            "_view_count": null,
            "_view_module": "@jupyter-widgets/controls",
            "_view_module_version": "1.5.0",
            "_view_name": "HBoxView",
            "box_style": "",
            "children": [
              "IPY_MODEL_7a0c81609a0e47068a37c7faa9217b75",
              "IPY_MODEL_451a287739fa46f8a0032e36650eb6ff",
              "IPY_MODEL_4b009a5d3c6148f3bbb11789a22e6b98"
            ],
            "layout": "IPY_MODEL_b3270dba12514d2e9ac665e6cf89d25b"
          }
        },
        "7a0c81609a0e47068a37c7faa9217b75": {
          "model_module": "@jupyter-widgets/controls",
          "model_name": "HTMLModel",
          "model_module_version": "1.5.0",
          "state": {
            "_dom_classes": [],
            "_model_module": "@jupyter-widgets/controls",
            "_model_module_version": "1.5.0",
            "_model_name": "HTMLModel",
            "_view_count": null,
            "_view_module": "@jupyter-widgets/controls",
            "_view_module_version": "1.5.0",
            "_view_name": "HTMLView",
            "description": "",
            "description_tooltip": null,
            "layout": "IPY_MODEL_7e568516f8104b5295a068eb0dc96b6d",
            "placeholder": "​",
            "style": "IPY_MODEL_8dca9312ab984cedb767013b9ff4a86b",
            "value": "100%"
          }
        },
        "451a287739fa46f8a0032e36650eb6ff": {
          "model_module": "@jupyter-widgets/controls",
          "model_name": "FloatProgressModel",
          "model_module_version": "1.5.0",
          "state": {
            "_dom_classes": [],
            "_model_module": "@jupyter-widgets/controls",
            "_model_module_version": "1.5.0",
            "_model_name": "FloatProgressModel",
            "_view_count": null,
            "_view_module": "@jupyter-widgets/controls",
            "_view_module_version": "1.5.0",
            "_view_name": "ProgressView",
            "bar_style": "success",
            "description": "",
            "description_tooltip": null,
            "layout": "IPY_MODEL_23045430e6f244e7bcc869e820af8048",
            "max": 3,
            "min": 0,
            "orientation": "horizontal",
            "style": "IPY_MODEL_4107bb5c3811469885a8555ec523b3f5",
            "value": 3
          }
        },
        "4b009a5d3c6148f3bbb11789a22e6b98": {
          "model_module": "@jupyter-widgets/controls",
          "model_name": "HTMLModel",
          "model_module_version": "1.5.0",
          "state": {
            "_dom_classes": [],
            "_model_module": "@jupyter-widgets/controls",
            "_model_module_version": "1.5.0",
            "_model_name": "HTMLModel",
            "_view_count": null,
            "_view_module": "@jupyter-widgets/controls",
            "_view_module_version": "1.5.0",
            "_view_name": "HTMLView",
            "description": "",
            "description_tooltip": null,
            "layout": "IPY_MODEL_dd1a2fd1e79444198426c107795b2e2c",
            "placeholder": "​",
            "style": "IPY_MODEL_2ee4ff91a9504a8a825c5e3ef9a6a9a9",
            "value": " 3/3 [00:31&lt;00:00, 10.33s/it]"
          }
        },
        "b3270dba12514d2e9ac665e6cf89d25b": {
          "model_module": "@jupyter-widgets/base",
          "model_name": "LayoutModel",
          "model_module_version": "1.2.0",
          "state": {
            "_model_module": "@jupyter-widgets/base",
            "_model_module_version": "1.2.0",
            "_model_name": "LayoutModel",
            "_view_count": null,
            "_view_module": "@jupyter-widgets/base",
            "_view_module_version": "1.2.0",
            "_view_name": "LayoutView",
            "align_content": null,
            "align_items": null,
            "align_self": null,
            "border": null,
            "bottom": null,
            "display": null,
            "flex": null,
            "flex_flow": null,
            "grid_area": null,
            "grid_auto_columns": null,
            "grid_auto_flow": null,
            "grid_auto_rows": null,
            "grid_column": null,
            "grid_gap": null,
            "grid_row": null,
            "grid_template_areas": null,
            "grid_template_columns": null,
            "grid_template_rows": null,
            "height": null,
            "justify_content": null,
            "justify_items": null,
            "left": null,
            "margin": null,
            "max_height": null,
            "max_width": null,
            "min_height": null,
            "min_width": null,
            "object_fit": null,
            "object_position": null,
            "order": null,
            "overflow": null,
            "overflow_x": null,
            "overflow_y": null,
            "padding": null,
            "right": null,
            "top": null,
            "visibility": null,
            "width": null
          }
        },
        "7e568516f8104b5295a068eb0dc96b6d": {
          "model_module": "@jupyter-widgets/base",
          "model_name": "LayoutModel",
          "model_module_version": "1.2.0",
          "state": {
            "_model_module": "@jupyter-widgets/base",
            "_model_module_version": "1.2.0",
            "_model_name": "LayoutModel",
            "_view_count": null,
            "_view_module": "@jupyter-widgets/base",
            "_view_module_version": "1.2.0",
            "_view_name": "LayoutView",
            "align_content": null,
            "align_items": null,
            "align_self": null,
            "border": null,
            "bottom": null,
            "display": null,
            "flex": null,
            "flex_flow": null,
            "grid_area": null,
            "grid_auto_columns": null,
            "grid_auto_flow": null,
            "grid_auto_rows": null,
            "grid_column": null,
            "grid_gap": null,
            "grid_row": null,
            "grid_template_areas": null,
            "grid_template_columns": null,
            "grid_template_rows": null,
            "height": null,
            "justify_content": null,
            "justify_items": null,
            "left": null,
            "margin": null,
            "max_height": null,
            "max_width": null,
            "min_height": null,
            "min_width": null,
            "object_fit": null,
            "object_position": null,
            "order": null,
            "overflow": null,
            "overflow_x": null,
            "overflow_y": null,
            "padding": null,
            "right": null,
            "top": null,
            "visibility": null,
            "width": null
          }
        },
        "8dca9312ab984cedb767013b9ff4a86b": {
          "model_module": "@jupyter-widgets/controls",
          "model_name": "DescriptionStyleModel",
          "model_module_version": "1.5.0",
          "state": {
            "_model_module": "@jupyter-widgets/controls",
            "_model_module_version": "1.5.0",
            "_model_name": "DescriptionStyleModel",
            "_view_count": null,
            "_view_module": "@jupyter-widgets/base",
            "_view_module_version": "1.2.0",
            "_view_name": "StyleView",
            "description_width": ""
          }
        },
        "23045430e6f244e7bcc869e820af8048": {
          "model_module": "@jupyter-widgets/base",
          "model_name": "LayoutModel",
          "model_module_version": "1.2.0",
          "state": {
            "_model_module": "@jupyter-widgets/base",
            "_model_module_version": "1.2.0",
            "_model_name": "LayoutModel",
            "_view_count": null,
            "_view_module": "@jupyter-widgets/base",
            "_view_module_version": "1.2.0",
            "_view_name": "LayoutView",
            "align_content": null,
            "align_items": null,
            "align_self": null,
            "border": null,
            "bottom": null,
            "display": null,
            "flex": null,
            "flex_flow": null,
            "grid_area": null,
            "grid_auto_columns": null,
            "grid_auto_flow": null,
            "grid_auto_rows": null,
            "grid_column": null,
            "grid_gap": null,
            "grid_row": null,
            "grid_template_areas": null,
            "grid_template_columns": null,
            "grid_template_rows": null,
            "height": null,
            "justify_content": null,
            "justify_items": null,
            "left": null,
            "margin": null,
            "max_height": null,
            "max_width": null,
            "min_height": null,
            "min_width": null,
            "object_fit": null,
            "object_position": null,
            "order": null,
            "overflow": null,
            "overflow_x": null,
            "overflow_y": null,
            "padding": null,
            "right": null,
            "top": null,
            "visibility": null,
            "width": null
          }
        },
        "4107bb5c3811469885a8555ec523b3f5": {
          "model_module": "@jupyter-widgets/controls",
          "model_name": "ProgressStyleModel",
          "model_module_version": "1.5.0",
          "state": {
            "_model_module": "@jupyter-widgets/controls",
            "_model_module_version": "1.5.0",
            "_model_name": "ProgressStyleModel",
            "_view_count": null,
            "_view_module": "@jupyter-widgets/base",
            "_view_module_version": "1.2.0",
            "_view_name": "StyleView",
            "bar_color": null,
            "description_width": ""
          }
        },
        "dd1a2fd1e79444198426c107795b2e2c": {
          "model_module": "@jupyter-widgets/base",
          "model_name": "LayoutModel",
          "model_module_version": "1.2.0",
          "state": {
            "_model_module": "@jupyter-widgets/base",
            "_model_module_version": "1.2.0",
            "_model_name": "LayoutModel",
            "_view_count": null,
            "_view_module": "@jupyter-widgets/base",
            "_view_module_version": "1.2.0",
            "_view_name": "LayoutView",
            "align_content": null,
            "align_items": null,
            "align_self": null,
            "border": null,
            "bottom": null,
            "display": null,
            "flex": null,
            "flex_flow": null,
            "grid_area": null,
            "grid_auto_columns": null,
            "grid_auto_flow": null,
            "grid_auto_rows": null,
            "grid_column": null,
            "grid_gap": null,
            "grid_row": null,
            "grid_template_areas": null,
            "grid_template_columns": null,
            "grid_template_rows": null,
            "height": null,
            "justify_content": null,
            "justify_items": null,
            "left": null,
            "margin": null,
            "max_height": null,
            "max_width": null,
            "min_height": null,
            "min_width": null,
            "object_fit": null,
            "object_position": null,
            "order": null,
            "overflow": null,
            "overflow_x": null,
            "overflow_y": null,
            "padding": null,
            "right": null,
            "top": null,
            "visibility": null,
            "width": null
          }
        },
        "2ee4ff91a9504a8a825c5e3ef9a6a9a9": {
          "model_module": "@jupyter-widgets/controls",
          "model_name": "DescriptionStyleModel",
          "model_module_version": "1.5.0",
          "state": {
            "_model_module": "@jupyter-widgets/controls",
            "_model_module_version": "1.5.0",
            "_model_name": "DescriptionStyleModel",
            "_view_count": null,
            "_view_module": "@jupyter-widgets/base",
            "_view_module_version": "1.2.0",
            "_view_name": "StyleView",
            "description_width": ""
          }
        }
      }
    }
  },
  "cells": [
    {
      "cell_type": "markdown",
      "metadata": {
        "id": "view-in-github",
        "colab_type": "text"
      },
      "source": [
        "<a href=\"https://colab.research.google.com/github/dagdag001/MNISTModel/blob/main/MNISTModel.ipynb\" target=\"_parent\"><img src=\"https://colab.research.google.com/assets/colab-badge.svg\" alt=\"Open In Colab\"/></a>"
      ]
    },
    {
      "cell_type": "code",
      "execution_count": 203,
      "metadata": {
        "id": "MJ7a3QjiTtfk"
      },
      "outputs": [],
      "source": [
        "import torch\n",
        "import torch.nn as nn\n",
        "import matplotlib.pyplot as plt\n",
        "from torchvision import datasets, transforms\n",
        "from torch.utils.data import DataLoader\n",
        "from tqdm.auto import tqdm"
      ]
    },
    {
      "cell_type": "markdown",
      "source": [
        "#Device agnostic\n"
      ],
      "metadata": {
        "id": "6TqJU3_QojBI"
      }
    },
    {
      "cell_type": "code",
      "source": [
        "device = 'cuda' if torch.cuda.is_available() else 'cpu'"
      ],
      "metadata": {
        "id": "Q6Vnjwd_ZIOC"
      },
      "execution_count": 204,
      "outputs": []
    },
    {
      "cell_type": "markdown",
      "source": [
        "#Loading MNIST dataset"
      ],
      "metadata": {
        "id": "JUmrCkEakM9V"
      }
    },
    {
      "cell_type": "code",
      "source": [
        "training_data = datasets.MNIST(\n",
        "    root=\"data\",\n",
        "    train=True,\n",
        "    download=True,\n",
        "    transform=transforms.ToTensor()\n",
        ")\n",
        "test_data = datasets.MNIST(\n",
        "    root=\"data\",\n",
        "    train=False,\n",
        "    download=True,\n",
        "    transform=transforms.ToTensor()\n",
        ")"
      ],
      "metadata": {
        "id": "PWJLddioUhjC"
      },
      "execution_count": 205,
      "outputs": []
    },
    {
      "cell_type": "code",
      "source": [
        "class_names = training_data.classes"
      ],
      "metadata": {
        "id": "cB7gOy2WWHMU"
      },
      "execution_count": 206,
      "outputs": []
    },
    {
      "cell_type": "code",
      "source": [
        "train_dataloader = DataLoader(training_data, batch_size=64, shuffle=True)\n",
        "test_dataloader = DataLoader(test_data, batch_size=64, shuffle=True)"
      ],
      "metadata": {
        "id": "bxQNuf5gWYum"
      },
      "execution_count": 207,
      "outputs": []
    },
    {
      "cell_type": "markdown",
      "source": [
        "#Build the CNN model\n"
      ],
      "metadata": {
        "id": "IaYWRXQbks23"
      }
    },
    {
      "cell_type": "code",
      "source": [
        "class MNISTModelV0(nn.Module):\n",
        "    def __init__(self, input_shape,\n",
        "                 hidden_units,\n",
        "                 output_shape):\n",
        "      super().__init__()\n",
        "      self.conv2D_block_1 = nn.Sequential (\n",
        "          nn.Conv2d(in_channels = input_shape,\n",
        "                    out_channels = hidden_units,\n",
        "                    kernel_size = 2,\n",
        "                    padding = 0,\n",
        "                    stride = 1),\n",
        "          nn.ReLU(),\n",
        "            nn.Conv2d(in_channels = hidden_units,\n",
        "                    out_channels = hidden_units,\n",
        "                    kernel_size = 2,\n",
        "                    padding = 0,\n",
        "                    stride = 1),\n",
        "          nn.ReLU(),\n",
        "          nn.MaxPool2d(kernel_size = 2),\n",
        "      )\n",
        "\n",
        "      self.conv2D_block_2 = nn.Sequential (\n",
        "          nn.Conv2d(in_channels = hidden_units,\n",
        "                    out_channels = hidden_units,\n",
        "                    kernel_size = 2,\n",
        "                    padding = 0,\n",
        "                    stride = 1),\n",
        "          nn.ReLU(),\n",
        "            nn.Conv2d(in_channels = hidden_units,\n",
        "                    out_channels = hidden_units,\n",
        "                    kernel_size = 2,\n",
        "                    padding = 0,\n",
        "                    stride = 1),\n",
        "          nn.ReLU(),\n",
        "          nn.MaxPool2d(kernel_size = 2),\n",
        "      )\n",
        "      self.classifier = nn.Sequential(\n",
        "          nn.Flatten(),\n",
        "          nn.Linear(in_features=hidden_units *5 * 5, out_features=output_shape)\n",
        "      )\n",
        "\n",
        "    def forward(self, x):\n",
        "        x = self.conv2D_block_1(x)\n",
        "        x = self.conv2D_block_2(x)\n",
        "        x = self.classifier(x)\n",
        "        return x\n",
        "\n"
      ],
      "metadata": {
        "id": "UzwSM00fT4SS"
      },
      "execution_count": 208,
      "outputs": []
    },
    {
      "cell_type": "markdown",
      "source": [
        "#Initialize model, loss function, and optimizer"
      ],
      "metadata": {
        "id": "-dkMXf6wmZV5"
      }
    },
    {
      "cell_type": "code",
      "source": [
        "model_0 = MNISTModelV0(input_shape=1,\n",
        "                hidden_units=10,\n",
        "                output_shape=len(class_names)).to(device)"
      ],
      "metadata": {
        "id": "opnkDdzlZhnf"
      },
      "execution_count": 209,
      "outputs": []
    },
    {
      "cell_type": "code",
      "source": [
        "loss_fn = nn.CrossEntropyLoss()\n",
        "optimizer = torch.optim.SGD(params = model_0.parameters(), lr= 0.1)\n",
        "def accuracy_fn(y_true, y_pred):\n",
        "    correct = torch.eq(y_true, y_pred).sum().item()\n",
        "    acc = (correct / len(y_pred)) * 100\n",
        "    return acc"
      ],
      "metadata": {
        "id": "EXA07r6OcRhG"
      },
      "execution_count": 210,
      "outputs": []
    },
    {
      "cell_type": "markdown",
      "source": [
        "#Training and Testing the Model\n"
      ],
      "metadata": {
        "id": "XxdY3EoXlBmq"
      }
    },
    {
      "cell_type": "code",
      "source": [
        "epochs = 3\n",
        "for epoch in tqdm(range(epochs)):\n",
        "    print(f\"Epoch: {epoch} |\\n---------\")\n",
        "    train_loss, train_acc  = 0, 0\n",
        "    for batch, (X, y) in enumerate(train_dataloader):\n",
        "        X, y = X.to(device), y.to(device)\n",
        "        model_0.train()\n",
        "        y_preds = model_0(X)\n",
        "        loss = loss_fn(y_preds, y)\n",
        "        acc = accuracy_fn(y_true=y, y_pred=y_preds.argmax(dim=1))\n",
        "        train_loss += loss.item()\n",
        "        train_acc += acc\n",
        "        optimizer.zero_grad()\n",
        "        loss.backward()\n",
        "        optimizer.step()\n",
        "    train_acc /= len(train_dataloader)\n",
        "    train_loss /= len(train_dataloader)\n",
        "    with torch.inference_mode():\n",
        "        test_loss, test_acc  = 0, 0\n",
        "        model_0.eval()\n",
        "        for X, y in test_dataloader:\n",
        "            X, y = X.to(device), y.to(device)\n",
        "            test_preds = model_0(X)\n",
        "            loss = loss_fn(test_preds, y)\n",
        "            acc = accuracy_fn(y_true=y, y_pred=test_preds.argmax(dim=1))\n",
        "            test_loss += loss.item()\n",
        "            test_acc += acc\n",
        "        test_acc /= len(test_dataloader)\n",
        "        test_loss /= len(test_dataloader)\n",
        "    print(f\"Train Loss: {train_loss:.2f} | Train Acc: {train_acc:.2f}%\")\n",
        "    print(f\"Test Loss: {test_loss:.5f} | Test Acc: {test_acc:.2f}%\")"
      ],
      "metadata": {
        "colab": {
          "base_uri": "https://localhost:8080/",
          "height": 257,
          "referenced_widgets": [
            "e2718389e0a649f69637c4c5631b9949",
            "7a0c81609a0e47068a37c7faa9217b75",
            "451a287739fa46f8a0032e36650eb6ff",
            "4b009a5d3c6148f3bbb11789a22e6b98",
            "b3270dba12514d2e9ac665e6cf89d25b",
            "7e568516f8104b5295a068eb0dc96b6d",
            "8dca9312ab984cedb767013b9ff4a86b",
            "23045430e6f244e7bcc869e820af8048",
            "4107bb5c3811469885a8555ec523b3f5",
            "dd1a2fd1e79444198426c107795b2e2c",
            "2ee4ff91a9504a8a825c5e3ef9a6a9a9"
          ]
        },
        "id": "9zwSgaVTcuOG",
        "outputId": "735a39f4-9346-4e7f-db59-1eff8bbe007e"
      },
      "execution_count": 211,
      "outputs": [
        {
          "output_type": "display_data",
          "data": {
            "text/plain": [
              "  0%|          | 0/3 [00:00<?, ?it/s]"
            ],
            "application/vnd.jupyter.widget-view+json": {
              "version_major": 2,
              "version_minor": 0,
              "model_id": "e2718389e0a649f69637c4c5631b9949"
            }
          },
          "metadata": {}
        },
        {
          "output_type": "stream",
          "name": "stdout",
          "text": [
            "Epoch: 0 |\n",
            "---------\n",
            "Train Loss: 1.42 | Train Acc: 47.12%\n",
            "Test Loss: 0.18986 | Test Acc: 94.24%\n",
            "Epoch: 1 |\n",
            "---------\n",
            "Train Loss: 0.13 | Train Acc: 95.91%\n",
            "Test Loss: 0.08603 | Test Acc: 97.32%\n",
            "Epoch: 2 |\n",
            "---------\n",
            "Train Loss: 0.09 | Train Acc: 97.12%\n",
            "Test Loss: 0.08244 | Test Acc: 97.25%\n"
          ]
        }
      ]
    },
    {
      "cell_type": "markdown",
      "source": [
        "#Make predictions on test sample"
      ],
      "metadata": {
        "id": "xUFGBpPBlKL9"
      }
    },
    {
      "cell_type": "code",
      "source": [
        "def make_prediction(model, data, device = device):\n",
        "  pred_probs = []\n",
        "  model.eval()\n",
        "  with torch.inference_mode():\n",
        "    for sample in data:\n",
        "      sample = torch.unsqueeze(sample, dim= 0).to(device)\n",
        "      pred_logit = model(sample)\n",
        "      pred_prob = torch.softmax(pred_logit.squeeze(), dim=0)\n",
        "      pred_probs.append(pred_prob.cpu())\n",
        "    return torch.stack(pred_probs)"
      ],
      "metadata": {
        "id": "b4aa_Wbih8Ys"
      },
      "execution_count": 212,
      "outputs": []
    },
    {
      "cell_type": "code",
      "source": [
        "import random\n",
        "# random.seed(42)\n",
        "test_samples = []\n",
        "test_labels = []\n",
        "for sample, label in random.sample(list(test_data), k=9 ):\n",
        "  test_samples.append(sample)\n",
        "  test_labels.append(label)\n",
        "# plt.imshow(test_samples[0].squeeze(0), cmap=\"gray\")"
      ],
      "metadata": {
        "id": "sZ3ih_YKiJ2f"
      },
      "execution_count": 213,
      "outputs": []
    },
    {
      "cell_type": "code",
      "source": [
        "pred_probs = make_prediction(model_0, test_samples).argmax(dim=1)"
      ],
      "metadata": {
        "id": "dYOkYFwkiZqV"
      },
      "execution_count": 214,
      "outputs": []
    },
    {
      "cell_type": "code",
      "source": [
        "plt.figure(figsize=(6, 6))\n",
        "for i, sample in enumerate( test_samples):\n",
        "  plt.subplot(3, 3, i+1)\n",
        "  plt.imshow(sample.squeeze(), cmap=\"gray\")\n",
        "  truth_label = class_names[test_labels[i]]\n",
        "  pred_label = class_names[pred_probs[i]]\n",
        "  if truth_label == pred_label:\n",
        "    plt.title(f\"Pred: {class_names[pred_probs[i]]} | True: {class_names[test_labels[i]]}\", fontsize=10, c='g')\n",
        "\n",
        "  else:\n",
        "    plt.title(f\"Pred: {class_names[pred_probs[i]]} | True: {class_names[test_labels[i]]}\",  fontsize=10, c='r')\n",
        "\n",
        "\n",
        "  plt.axis(False)"
      ],
      "metadata": {
        "colab": {
          "base_uri": "https://localhost:8080/",
          "height": 518
        },
        "id": "LQj8It70i8ez",
        "outputId": "81ddc72d-4f7f-4745-d67f-491f1c296407"
      },
      "execution_count": 223,
      "outputs": [
        {
          "output_type": "display_data",
          "data": {
            "text/plain": [
              "<Figure size 600x600 with 9 Axes>"
            ],
            "image/png": "[encoded data removed]"
          },
          "metadata": {}
        }
      ]
    },
    {
      "cell_type": "markdown",
      "source": [
        "# Create and plot the confusion matrix\n"
      ],
      "metadata": {
        "id": "Na0ur3bcoE1i"
      }
    },
    {
      "cell_type": "code",
      "source": [
        "y_preds = []\n",
        "y_true = []\n",
        "\n",
        "model_0.eval()\n",
        "with torch.inference_mode():\n",
        "    for X, y in test_dataloader:\n",
        "        X = X.to(device)\n",
        "        y_logit = model_0(X)\n",
        "        y_pred = y_logit.argmax(dim=1)\n",
        "        y_preds.append(y_pred.cpu())\n",
        "        y_true.append(y.cpu())\n",
        "\n",
        "y_pred_tensor = torch.cat(y_preds)\n",
        "y_true_tensor = torch.cat(y_true)\n"
      ],
      "metadata": {
        "id": "CI-iW7rGlgVm"
      },
      "execution_count": 216,
      "outputs": []
    },
    {
      "cell_type": "code",
      "source": [
        "try:\n",
        "  import torchmetrics, mlxtend\n",
        "  print(\"torchmetrics already installed\")\n",
        "except:\n",
        "  print(\"installing torchmetrics \")\n",
        "\n",
        "  !pip install torchmetrics\n",
        "  import torchmetrics, mlxtend\n"
      ],
      "metadata": {
        "colab": {
          "base_uri": "https://localhost:8080/"
        },
        "id": "bYEbPvlGlzD4",
        "outputId": "438ce163-2d59-4215-9211-fdcd3fb16290"
      },
      "execution_count": 217,
      "outputs": [
        {
          "output_type": "stream",
          "name": "stdout",
          "text": [
            "torchmetrics already installed\n"
          ]
        }
      ]
    },
    {
      "cell_type": "code",
      "source": [
        "from torchmetrics import ConfusionMatrix\n",
        "from mlxtend.plotting import plot_confusion_matrix\n",
        "\n",
        "cm = ConfusionMatrix (num_classes = len(class_names), task=\"multiclass\")\n",
        "cm_tensor = cm(preds = y_pred_tensor, target =y_true_tensor)\n",
        "cm_tensor\n",
        "\n",
        "fig , ax = plot_confusion_matrix(cm_tensor.numpy(),\n",
        "                                 class_names=class_names,\n",
        "                                 figsize=(10, 7))\n"
      ],
      "metadata": {
        "colab": {
          "base_uri": "https://localhost:8080/",
          "height": 660
        },
        "id": "T756c7mbl1xm",
        "outputId": "ac5f7fdd-7fad-4739-962d-168a51eab85b"
      },
      "execution_count": 218,
      "outputs": [
        {
          "output_type": "display_data",
          "data": {
            "text/plain": [
              "<Figure size 1000x700 with 1 Axes>"
            ],
            "image/png": "[encoded data removed]"
          },
          "metadata": {}
        }
      ]
    },
    {
      "cell_type": "code",
      "source": [
        "from pathlib import Path\n",
        "\n",
        "MODEL_PATH = Path(\"models\")\n",
        "MODEL_PATH.mkdir(parents=True, exist_ok=True)\n",
        "MODEL_NAME = \"MNISTModel.pth\"\n",
        "MODEL_SAVE_PATH = MODEL_PATH / MODEL_NAME\n",
        "torch.save(model_0.state_dict(), MODEL_SAVE_PATH)"
      ],
      "metadata": {
        "id": "kMl4ckjArqXw"
      },
      "execution_count": 219,
      "outputs": []
    },
    {
      "cell_type": "code",
      "source": [
        "loded_model = MNISTModelV0(input_shape=1, hidden_units=10, output_shape=len(class_names))\n",
        "loded_model.load_state_dict(torch.load(MODEL_SAVE_PATH))\n",
        "loded_model.to(device)"
      ],
      "metadata": {
        "colab": {
          "base_uri": "https://localhost:8080/"
        },
        "id": "-4eKrV7Brxcj",
        "outputId": "93f9fc90-af91-430e-f2e6-5e28ddccb267"
      },
      "execution_count": 220,
      "outputs": [
        {
          "output_type": "execute_result",
          "data": {
            "text/plain": [
              "MNISTModelV0(\n",
              "  (conv2D_block_1): Sequential(\n",
              "    (0): Conv2d(1, 10, kernel_size=(2, 2), stride=(1, 1))\n",
              "    (1): ReLU()\n",
              "    (2): Conv2d(10, 10, kernel_size=(2, 2), stride=(1, 1))\n",
              "    (3): ReLU()\n",
              "    (4): MaxPool2d(kernel_size=2, stride=2, padding=0, dilation=1, ceil_mode=False)\n",
              "  )\n",
              "  (conv2D_block_2): Sequential(\n",
              "    (0): Conv2d(10, 10, kernel_size=(2, 2), stride=(1, 1))\n",
              "    (1): ReLU()\n",
              "    (2): Conv2d(10, 10, kernel_size=(2, 2), stride=(1, 1))\n",
              "    (3): ReLU()\n",
              "    (4): MaxPool2d(kernel_size=2, stride=2, padding=0, dilation=1, ceil_mode=False)\n",
              "  )\n",
              "  (classifier): Sequential(\n",
              "    (0): Flatten(start_dim=1, end_dim=-1)\n",
              "    (1): Linear(in_features=250, out_features=10, bias=True)\n",
              "  )\n",
              ")"
            ]
          },
          "metadata": {},
          "execution_count": 220
        }
      ]
    }
  ]
}